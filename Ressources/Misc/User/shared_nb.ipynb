{
 "cells": [
  {
   "cell_type": "code",
   "execution_count": 2,
   "metadata": {},
   "outputs": [
    {
     "name": "stdout",
     "output_type": "stream",
     "text": [
      "-4\n",
      "I got the result 5\n",
      "sum of three: 10\n"
     ]
    }
   ],
   "source": [
    "import numpy as np\n",
    "\n",
    "#%% 1. function: below is a function 'adding' that takes two input x and y, and compute the sum of them \n",
    "def adding(x,y):\n",
    "    sum_is = x + y\n",
    "    return sum_is\n",
    "\n",
    "\n",
    "# function call\n",
    "print(adding(3,-7))\n",
    "result = adding(0,5)\n",
    "print('I got the result',result)\n",
    "\n",
    "\n",
    "# Exercise: write a function that compute the product of three inputs and test it with input of your choice!\n",
    "\n",
    "\n",
    "\n",
    "def sum_three_input(x, y, z):\n",
    "    sum_var = x + y + z\n",
    "    return sum_var\n",
    "\n",
    "\n",
    "print(f'sum of three: {sum_three_input(1, 3, 6)}')"
   ]
  },
  {
   "cell_type": "code",
   "execution_count": 13,
   "metadata": {},
   "outputs": [
    {
     "name": "stdout",
     "output_type": "stream",
     "text": [
      "[[1. 0. 0.]\n",
      " [0. 1. 0.]\n",
      " [0. 0. 1.]]\n",
      "[[1. 1. 1.]\n",
      " [1. 1. 1.]\n",
      " [1. 1. 1.]]\n"
     ]
    },
    {
     "data": {
      "text/plain": [
       "np.int64(17)"
      ]
     },
     "execution_count": 13,
     "metadata": {},
     "output_type": "execute_result"
    },
    {
     "data": {
      "image/png": "[encoded data removed]",
      "text/plain": [
       "<Figure size 640x480 with 1 Axes>"
      ]
     },
     "metadata": {},
     "output_type": "display_data"
    }
   ],
   "source": [
    "import matplotlib.pyplot as plt\n",
    "\n",
    "#%% Numpy\n",
    "\n",
    "# Declare an array\n",
    "\n",
    "arr1 = np.array([[1,2,2], [4,5,3]]) # use set values\n",
    "\n",
    "arr2 = np.zeros((3,2)) \n",
    "\n",
    "ident_matrix = np.eye(3)\n",
    "matrix_oo = np.ones((3,3))\n",
    "\n",
    "\n",
    "\n",
    "print(ident_matrix)\n",
    "print(matrix_oo)\n",
    "\n",
    "plt.plot(matrix_oo)\n",
    "\n",
    "# Access elements\n",
    "arr2[0,1] #a single value\n",
    "arr1[:2,0] #a slice\n",
    "arr1[::,1]\n",
    "\n",
    "\n",
    "\n",
    "# Array attributes\n",
    "#.shape\n",
    "#.size\n",
    "#.dtype\n",
    "\n",
    "\n",
    "\n",
    "# Calling functions\n",
    "np.max(arr1)\n",
    "np.sum(arr1)\n",
    "\n"
   ]
  },
  {
   "cell_type": "code",
   "execution_count": 21,
   "metadata": {},
   "outputs": [
    {
     "name": "stdout",
     "output_type": "stream",
     "text": [
      "5\n"
     ]
    },
    {
     "data": {
      "text/plain": [
       "(array([[ 99.,   0.,   0.,   0.,   0.,   0.,   0.,   0.,   0.,   3.],\n",
       "        [ 99.,   0.,   0.,   0.,   0.,   0.,   0.,   0.,   0.,   3.],\n",
       "        [ 99.,   0.,   0.,   0.,   0.,   0.,   0.,   0.,   0.,   3.],\n",
       "        [100.,   0.,   0.,   0.,   0.,   0.,   0.,   0.,   0.,   2.],\n",
       "        [100.,   0.,   0.,   0.,   0.,   0.,   0.,   0.,   0.,   2.],\n",
       "        [ 97.,   0.,   0.,   0.,   0.,   0.,   0.,   0.,   0.,   5.],\n",
       "        [ 99.,   0.,   0.,   0.,   0.,   0.,   0.,   0.,   0.,   3.],\n",
       "        [101.,   0.,   0.,   0.,   0.,   0.,   0.,   0.,   0.,   1.],\n",
       "        [101.,   0.,   0.,   0.,   0.,   0.,   0.,   0.,   0.,   1.],\n",
       "        [ 99.,   0.,   0.,   0.,   0.,   0.,   0.,   0.,   0.,   3.],\n",
       "        [ 99.,   0.,   0.,   0.,   0.,   0.,   0.,   0.,   0.,   3.],\n",
       "        [ 99.,   0.,   0.,   0.,   0.,   0.,   0.,   0.,   0.,   3.],\n",
       "        [102.,   0.,   0.,   0.,   0.,   0.,   0.,   0.,   0.,   0.],\n",
       "        [ 99.,   0.,   0.,   0.,   0.,   0.,   0.,   0.,   0.,   3.],\n",
       "        [ 99.,   0.,   0.,   0.,   0.,   0.,   0.,   0.,   0.,   3.],\n",
       "        [101.,   0.,   0.,   0.,   0.,   0.,   0.,   0.,   0.,   1.],\n",
       "        [101.,   0.,   0.,   0.,   0.,   0.,   0.,   0.,   0.,   1.],\n",
       "        [ 99.,   0.,   0.,   0.,   0.,   0.,   0.,   0.,   0.,   3.],\n",
       "        [101.,   0.,   0.,   0.,   0.,   0.,   0.,   0.,   0.,   1.],\n",
       "        [ 97.,   0.,   0.,   0.,   0.,   0.,   0.,   0.,   0.,   5.]]),\n",
       " array([0. , 0.1, 0.2, 0.3, 0.4, 0.5, 0.6, 0.7, 0.8, 0.9, 1. ]),\n",
       " <a list of 20 BarContainer objects>)"
      ]
     },
     "execution_count": 21,
     "metadata": {},
     "output_type": "execute_result"
    },
    {
     "data": {
      "image/png": "[encoded data removed]",
      "text/plain": [
       "<Figure size 640x480 with 1 Axes>"
      ]
     },
     "metadata": {},
     "output_type": "display_data"
    }
   ],
   "source": [
    "#%% Numpy\n",
    "\n",
    "# Declare an array\n",
    "\n",
    "arr1 = np.array([[1,2,2], [4,5,3]]) # use set values\n",
    "\n",
    "arr2 = np.zeros((3,2)) \n",
    "\n",
    "#np.eye()\n",
    "#np.ones()\n",
    "\n",
    "\n",
    "\n",
    "# Access elements\n",
    "#arr2[0,1] #a single value\n",
    "#arr1[:2,0] #a slice\n",
    "#arr1[::,1]\n",
    "\n",
    "\n",
    "\n",
    "# Array attributes\n",
    "#.shape\n",
    "#.size\n",
    "#.dtype\n",
    "\n",
    "\n",
    "\n",
    "# Calling functions\n",
    "print(np.max(arr1))\n",
    "#np.sum(arr1)\n",
    "\n",
    "\n",
    "\n",
    "#%% 2. Neuronal spikes from real dataset\n",
    "spk = np.load(\"C:/Users/Mock/Downloads/spikes.npy\")\n",
    "img = np.load('C:/Users/Mock/Downloads/image.npy')\n",
    "\n",
    "#plt.plot(spk)\n",
    "#plt.plot(img)\n",
    "\n",
    "plt.hist(spk)\n",
    "\n",
    "#Task 1: plot image, hint:use plt.imshow\n",
    "\n",
    "#Task 2: plot spike raster\n",
    "\n",
    "#Task 3: plot a histogram of spike counts for each neuron, hint:use plt.hist\n",
    "\n",
    "#Task 4: Find which neuron has the most spikes/is the most responsive of this image?\n",
    "\n",
    "#Task 5: Find at which trial there are the least number of spikes?"
   ]
  }
 ],
 "metadata": {
  "kernelspec": {
   "display_name": "Python 3",
   "language": "python",
   "name": "python3"
  },
  "language_info": {
   "codemirror_mode": {
    "name": "ipython",
    "version": 3
   },
   "file_extension": ".py",
   "mimetype": "text/x-python",
   "name": "python",
   "nbconvert_exporter": "python",
   "pygments_lexer": "ipython3",
   "version": "3.10.1"
  }
 },
 "nbformat": 4,
 "nbformat_minor": 2
}
